{
 "cells": [
  {
   "cell_type": "code",
   "execution_count": 1,
   "metadata": {},
   "outputs": [],
   "source": [
    "import pandas as pd\n",
    "import requests\n",
    "from bs4 import BeautifulSoup"
   ]
  },
  {
   "cell_type": "code",
   "execution_count": 20,
   "metadata": {},
   "outputs": [
    {
     "data": {
      "text/plain": [
       "'<!DOCTYPE html>\\n<html lang=\"en\" dir=\"ltr\">\\n<head>\\n<meta http-equiv=\"content-type\" content=\"text/html;charset=UTF-8\">\\n<script type=\"text/javascript\" src=\"//d3fw5vlhllyvee.cloudfront.net/s/8e33a23/en_IN.js\"></script>\\n<link href=\"//d3fw5vlhllyvee.cloudfront.net/s/b45d10b/jobsearch_all.css\" rel=\"stylesheet\" type=\"text/css\">\\n<link rel=\"alternate\" type=\"application/rss+xml\" title=\"Fresher Jobs, Recruitment in Mumbai, Maharashtra\" href=\"https://www.indeed.co.in/rss?q=fresher&l=Mumbai%2C+Maharashtra&sort=date\">\\n<link rel=\"alternate\" media=\"only screen and (max-width: 640px)\" href=\"/m/jobs?q=fresher&l=Mumbai%2C+Maharashtra&sort=date\">\\n<link rel=\"alternate\" media=\"handheld\" href=\"/m/jobs?q=fresher&l=Mumbai%2C+Maharashtra&sort=date\">\\n\\n<script type=\"text/javascript\">\\n\\nif (typeof window[\\'closureReadyCallbacks\\'] == \\'undefined\\') {\\nwindow[\\'closureReadyCallbacks\\'] = [];\\n}\\n\\nfunction call_when_jsall_loaded(cb) {\\nif (window[\\'closureReady\\']) {\\ncb();\\n} else {\\nwindow[\\'closureReadyCallbacks\\'].push(cb);\\n}\\n}\\n</script>\\n<meta name=\"ppstriptst\" content=\"1\">\\n<script>\\nvar _scriptDownloadCount = 0;\\nvar _retryDownload = function() {\\nvar script = document.createElement(\\'script\\');\\nvar path = \\'//d3fw5vlhllyvee.cloudfront.net/s/1e9478a/jobsearch-all-compiled.js\\';\\nscript.async = false;\\nscript.src = path;\\nscript.onerror=_onMainJSBundleError;\\ndocument.head.appendChild(script);\\n};\\nvar _onMainJSBundleError = function() {\\ntry {\\n\\n// for failed downloads, we want to retry the download up to 5 times\\nif (_scriptDownloadCount < 4) {\\n_scriptDownloadCount++;\\n_retryDownload();\\nreturn;\\n}\\n\\n// if we\\'ve exhausted all retries, send a ping to log the failure\\nvar img = document.createElement(\"img\");\\nvar tk = \"1ef9n14r8998n800\"; // tk\\nimg.src = \"/rpc/log?a=jasxJsLoadError&tk=\" + tk;\\ndocument.head.appendChild(img);\\ndocument.head.removeChild(img);\\n\\n} catch(e) {}\\n}\\n\\n</script>\\n\\n<script type=\"text/javascript\" src=\"//d3fw5vlhllyvee.cloudfront.net/s/1e9478a/jobsearch-all-compiled.js\" onerror=\"_onMainJSBundleError()\"></script>\\n<script type=\"text/javascript\">\\n\\nvar searchUID = \\'1ef9n14r8998n800\\';\\nvar tk = \\'1ef9n14r8998n800\\';\\n\\nvar loggedIn = false;\\nvar dcmPayload = \\'jobse0;jobal0;viewj0;savej0;8232301\\';\\nvar myindeed = true;\\nvar userEmail = \\'\\';\\nvar tellFriendEmail = \\'\\';\\nvar globalLoginURL = \\'https:\\\\/\\\\/www.indeed.co.in\\\\/account\\\\/login?dest=%2Fjobs%3Fq%3Dfresher%26l%3DMumbai%2C%2BMaharashtra%26sort%3Ddate\\';\\nvar globalRegisterURL = \\'https:\\\\/\\\\/www.indeed.co.in\\\\/account\\\\/register?dest=%2Fjobs%3Fq%3Dfresher%26l%3DMumbai%2C%2BMaharashtra%26sort%3Ddate\\';\\nvar searchKey = \\'66abcb022e7e24d5\\';\\nvar searchState = \\'q=fresher&amp;l=Mumbai%2C+Maharashtra&amp;sort=date\\';\\nvar searchQS = \\'q=fresher&l=Mumbai,+Maharashtra&sort=date\\';\\nvar eventType = \\'jobsearch\\';\\nvar locale = \\'en_IN\\';\\nfunction clk(id) { var a = document.getElementById(id); var hr = a.href; var si = a.href.indexOf(\\'&jsa=\\'); if (si > 0) return; var jsh = hr + \\'&tk=1ef9n14r8998n800&jsa=7160\\'; a.href = jsh; }\\nfunction sjomd(id) { var a = document.getElementById(id); var hr = '"
      ]
     },
     "execution_count": 20,
     "metadata": {},
     "output_type": "execute_result"
    }
   ],
   "source": [
    "#https://www.indeed.co.in/jobs?q=fresher&l=Mumbai%2C+Maharashtra&sort=date\n",
    "# https://www.indeed.co.in/jobs?q=fresher&l=India&sort=date\n",
    "\n",
    "source = requests.get(\"https://www.indeed.co.in/jobs?q=fresher&l=Mumbai%2C+Maharashtra&sort=date\").text\n",
    "\n",
    "#disaplying a chunk of the source data\n",
    "source[0:3000]"
   ]
  },
  {
   "cell_type": "code",
   "execution_count": 21,
   "metadata": {},
   "outputs": [
    {
     "data": {
      "text/plain": [
       "'Fresher Jobs in Mumbai, Maharashtra - August 2020 | Indeed.co.in'"
      ]
     },
     "execution_count": 21,
     "metadata": {},
     "output_type": "execute_result"
    }
   ],
   "source": [
    "# disaplying the title\n",
    "\n",
    "soup = BeautifulSoup(source, 'lxml')\n",
    "soup.title.text"
   ]
  },
  {
   "cell_type": "code",
   "execution_count": 4,
   "metadata": {},
   "outputs": [],
   "source": [
    "# this can be used to display the entire body content\n",
    "# soup.body"
   ]
  },
  {
   "cell_type": "code",
   "execution_count": 30,
   "metadata": {},
   "outputs": [
    {
     "data": {
      "text/plain": [
       "[<a class=\"jobtitle turnstileLink\" data-tn-element=\"jobTitle\" href=\"/company/Memechat/jobs/Junior-Business-Development-Associate-601e83fb9564556e?fccid=7de1820d53a84ad8&amp;vjs=3\" id=\"jl_601e83fb9564556e\" onclick=\"setRefineByCookie([]); return rclk(this,jobmap[0],true,1);\" onmousedown=\"return rclk(this,jobmap[0],1);\" rel=\"noopener nofollow\" target=\"_blank\" title=\"Junior Business Development Associate Job\">\n",
       " Junior Business Development Associate Job</a>,\n",
       " <a class=\"jobtitle turnstileLink\" data-tn-element=\"jobTitle\" href=\"/rc/clk?jk=2c93f5a24901f221&amp;fccid=20d6cf3c1b0e4cf1&amp;vjs=3\" id=\"jl_2c93f5a24901f221\" onclick=\"setRefineByCookie([]); return rclk(this,jobmap[1],true,1);\" onmousedown=\"return rclk(this,jobmap[1],1);\" rel=\"noopener nofollow\" target=\"_blank\" title=\"Campaign Management Internship\">\n",
       " Campaign Management Internship</a>,\n",
       " <a class=\"jobtitle turnstileLink\" data-tn-element=\"jobTitle\" href=\"/rc/clk?jk=a057054d7feaa893&amp;fccid=b9d9f41dd92e9594&amp;vjs=3\" id=\"jl_a057054d7feaa893\" onclick=\"setRefineByCookie([]); return rclk(this,jobmap[2],true,1);\" onmousedown=\"return rclk(this,jobmap[2],1);\" rel=\"noopener nofollow\" target=\"_blank\" title=\"Visual Design Internship\">\n",
       " Visual Design Internship</a>,\n",
       " <a class=\"jobtitle turnstileLink\" data-tn-element=\"jobTitle\" href=\"/rc/clk?jk=8d01411c845f7344&amp;fccid=393cb52899116512&amp;vjs=3\" id=\"jl_8d01411c845f7344\" onclick=\"setRefineByCookie([]); return rclk(this,jobmap[3],true,1);\" onmousedown=\"return rclk(this,jobmap[3],1);\" rel=\"noopener nofollow\" target=\"_blank\" title=\"Marketing Internship\">\n",
       " Marketing Internship</a>,\n",
       " <a class=\"jobtitle turnstileLink\" data-tn-element=\"jobTitle\" href=\"/rc/clk?jk=f543b0336775dea3&amp;fccid=0d094db3506c59f1&amp;vjs=3\" id=\"jl_f543b0336775dea3\" onclick=\"setRefineByCookie([]); return rclk(this,jobmap[4],true,1);\" onmousedown=\"return rclk(this,jobmap[4],1);\" rel=\"noopener nofollow\" target=\"_blank\" title=\"Video Editing Internship\">\n",
       " Video Editing Internship</a>,\n",
       " <a class=\"jobtitle turnstileLink\" data-tn-element=\"jobTitle\" href=\"/rc/clk?jk=ad0e1b23b6c3d6ce&amp;fccid=d2f1480bb0e2d356&amp;vjs=3\" id=\"jl_ad0e1b23b6c3d6ce\" onclick=\"setRefineByCookie([]); return rclk(this,jobmap[5],true,1);\" onmousedown=\"return rclk(this,jobmap[5],1);\" rel=\"noopener nofollow\" target=\"_blank\" title=\"Accounts Internship\">\n",
       " Accounts Internship</a>,\n",
       " <a class=\"jobtitle turnstileLink\" data-tn-element=\"jobTitle\" href=\"/rc/clk?jk=3da5c0d286957db9&amp;fccid=bbdd8c077dff4fbd&amp;vjs=3\" id=\"jl_3da5c0d286957db9\" onclick=\"setRefineByCookie([]); return rclk(this,jobmap[6],true,1);\" onmousedown=\"return rclk(this,jobmap[6],1);\" rel=\"noopener nofollow\" target=\"_blank\" title=\"Marketing Internship\">\n",
       " Marketing Internship</a>,\n",
       " <a class=\"jobtitle turnstileLink\" data-tn-element=\"jobTitle\" href=\"/rc/clk?jk=3f5da3a942dcd4d5&amp;fccid=f7210dfb576d3393&amp;vjs=3\" id=\"jl_3f5da3a942dcd4d5\" onclick=\"setRefineByCookie([]); return rclk(this,jobmap[7],true,1);\" onmousedown=\"return rclk(this,jobmap[7],1);\" rel=\"noopener nofollow\" target=\"_blank\" title=\"Web Development Internship\">\n",
       " Web Development Internship</a>,\n",
       " <a class=\"jobtitle turnstileLink\" data-tn-element=\"jobTitle\" href=\"/rc/clk?jk=dbeb857ac1c304c0&amp;fccid=69943e907a3c464e&amp;vjs=3\" id=\"jl_dbeb857ac1c304c0\" onclick=\"setRefineByCookie([]); return rclk(this,jobmap[8],true,1);\" onmousedown=\"return rclk(this,jobmap[8],1);\" rel=\"noopener nofollow\" target=\"_blank\" title=\"Video Making/Editing Internship\">\n",
       " Video Making/Editing Internship</a>,\n",
       " <a class=\"jobtitle turnstileLink\" data-tn-element=\"jobTitle\" href=\"/rc/clk?jk=81ce256125ff76bf&amp;fccid=c0dc8f53780b6e51&amp;vjs=3\" id=\"jl_81ce256125ff76bf\" onclick=\"setRefineByCookie([]); return rclk(this,jobmap[9],true,1);\" onmousedown=\"return rclk(this,jobmap[9],1);\" rel=\"noopener nofollow\" target=\"_blank\" title=\"Theatre Director part time job/internship at Mumbai\">\n",
       " Theatre Director part time job/internship at Mumbai</a>,\n",
       " <a class=\"jobtitle turnstileLink\" data-tn-element=\"jobTitle\" href=\"/rc/clk?jk=34f36e51e6dd89d6&amp;fccid=01f089aee9cd6a2b&amp;vjs=3\" id=\"jl_34f36e51e6dd89d6\" onclick=\"setRefineByCookie([]); return rclk(this,jobmap[10],true,1);\" onmousedown=\"return rclk(this,jobmap[10],1);\" rel=\"noopener nofollow\" target=\"_blank\" title=\"Business Development (Sales) part time job/internship at Mumbai\">\n",
       " Business Development (Sales) part time job/internship at Mum...</a>,\n",
       " <a class=\"jobtitle turnstileLink\" data-tn-element=\"jobTitle\" href=\"/company/HR-Hosp-consulting-services/jobs/Staff-Nurse-Hospital-At-Malad-25ce743aa7f5be1c?fccid=34ecf30e390b35ec&amp;vjs=3\" id=\"jl_25ce743aa7f5be1c\" onclick=\"setRefineByCookie([]); return rclk(this,jobmap[11],true,1);\" onmousedown=\"return rclk(this,jobmap[11],1);\" rel=\"noopener nofollow\" target=\"_blank\" title=\"Staff nurse for hospital at Malad\">\n",
       " Staff nurse for hospital at Malad</a>,\n",
       " <a class=\"jobtitle turnstileLink\" data-tn-element=\"jobTitle\" href=\"/company/NIRAJ-D-ADATIA-&amp;-ASSOCIATES/jobs/Account-Audit-Executive-64c91fb3b076bebd?fccid=18419aff0725afcc&amp;vjs=3\" id=\"jl_64c91fb3b076bebd\" onclick=\"setRefineByCookie([]); return rclk(this,jobmap[12],true,1);\" onmousedown=\"return rclk(this,jobmap[12],1);\" rel=\"noopener nofollow\" target=\"_blank\" title=\"Accounts &amp; Audit Executive\">\n",
       " Accounts &amp; Audit Executive</a>,\n",
       " <a class=\"jobtitle turnstileLink\" data-tn-element=\"jobTitle\" href=\"/company/Ashirwad-enterprises/jobs/Corporate-Sales-Executive-363995d49cd2b8ff?fccid=f2f12687aa005d4f&amp;vjs=3\" id=\"jl_363995d49cd2b8ff\" onclick=\"setRefineByCookie([]); return rclk(this,jobmap[13],true,1);\" onmousedown=\"return rclk(this,jobmap[13],1);\" rel=\"noopener nofollow\" target=\"_blank\" title=\"Corporate Sales Executive\">\n",
       " Corporate Sales Executive</a>,\n",
       " <a class=\"jobtitle turnstileLink\" data-tn-element=\"jobTitle\" href=\"/company/Fortuco-Resource-Solutions-Pvt-Ltd/jobs/Cce-Ll-Customer-Support-Executive-f911d087216f0bb6?fccid=c97cb222a5e74919&amp;vjs=3\" id=\"jl_f911d087216f0bb6\" onclick=\"setRefineByCookie([]); return rclk(this,jobmap[14],true,0);\" onmousedown=\"return rclk(this,jobmap[14],0);\" rel=\"noopener nofollow\" target=\"_blank\" title=\"CCE (Customer Care Executive) ll Customer Support Executive\">\n",
       " CCE (Customer Care Executive) ll Customer Support Executive</a>]"
      ]
     },
     "execution_count": 30,
     "metadata": {},
     "output_type": "execute_result"
    }
   ],
   "source": [
    "main = soup.find_all('a', class_ = 'jobtitle turnstileLink')\n",
    "main"
   ]
  },
  {
   "cell_type": "code",
   "execution_count": 23,
   "metadata": {},
   "outputs": [
    {
     "name": "stdout",
     "output_type": "stream",
     "text": [
      "['Junior Business Development Associate Job', 'Campaign Management Internship', 'Visual Design Internship', 'Marketing Internship', 'Video Editing Internship', 'Accounts Internship', 'Marketing Internship', 'Web Development Internship', 'Video Making/Editing Internship', 'Theatre Director part time job/internship at Mumbai', 'Business Development (Sales) part time job/internship at Mum...', 'Staff nurse for hospital at Malad', 'Accounts & Audit Executive', 'Corporate Sales Executive', 'CCE (Customer Care Executive) ll Customer Support Executive']\n",
      "15\n"
     ]
    }
   ],
   "source": [
    "job_role= []\n",
    "for elem in main:\n",
    "    elem = elem.text.strip('\\n')\n",
    "    job_role.append(elem)\n",
    "print(job_role)\n",
    "print(len(job_role))"
   ]
  },
  {
   "cell_type": "code",
   "execution_count": 31,
   "metadata": {},
   "outputs": [
    {
     "data": {
      "text/plain": [
       "[<span class=\"company\">\n",
       " Memechat</span>, <span class=\"company\">\n",
       " FISSION MARKETING LLP</span>, <span class=\"company\">\n",
       " Coviam Technology And Services Private Limited</span>, <span class=\"company\">\n",
       " Purplemonks Technology Private Limited</span>, <span class=\"company\">\n",
       " Personage Corporation Private Limited</span>]"
      ]
     },
     "execution_count": 31,
     "metadata": {},
     "output_type": "execute_result"
    }
   ],
   "source": [
    "company = soup.find_all('span', class_ = 'company')\n",
    "company[0:5]"
   ]
  },
  {
   "cell_type": "code",
   "execution_count": 24,
   "metadata": {},
   "outputs": [
    {
     "name": "stdout",
     "output_type": "stream",
     "text": [
      "['Memechat', 'FISSION MARKETING LLP', 'Coviam Technology And Services Private Limited', 'Purplemonks Technology Private Limited', 'Personage Corporation Private Limited', 'Group Futurista', 'SEAL Ripped', 'Texatrove', 'Modern Plastics India', 'Chilsag Entertainment Network', 'Dropshyp', 'Ccm', 'NIRAJ D ADATIA & ASSOCIATES', 'Ashirwad enterprises', 'Fortuco Resource Solutions Pvt Ltd']\n",
      "15\n"
     ]
    }
   ],
   "source": [
    "companies=[]\n",
    "for elem in company:\n",
    "    elem = elem.text.strip('\\n')\n",
    "    companies.append(elem)\n",
    "print(companies)\n",
    "print(len(companies))"
   ]
  },
  {
   "cell_type": "code",
   "execution_count": 32,
   "metadata": {},
   "outputs": [
    {
     "data": {
      "text/plain": [
       "[<span class=\"location accessible-contrast-color-location\">Mumbai, Maharashtra</span>,\n",
       " <span class=\"location accessible-contrast-color-location\">Mumbai, Maharashtra</span>,\n",
       " <span class=\"location accessible-contrast-color-location\">Mumbai, Maharashtra</span>,\n",
       " <span class=\"location accessible-contrast-color-location\">Mumbai, Maharashtra</span>,\n",
       " <span class=\"location accessible-contrast-color-location\">Mumbai, Maharashtra</span>]"
      ]
     },
     "execution_count": 32,
     "metadata": {},
     "output_type": "execute_result"
    }
   ],
   "source": [
    "loc = soup.find_all('span', class_= 'location')\n",
    "loc[0:5]"
   ]
  },
  {
   "cell_type": "code",
   "execution_count": 25,
   "metadata": {},
   "outputs": [
    {
     "name": "stdout",
     "output_type": "stream",
     "text": [
      "['Mumbai, Maharashtra', 'Mumbai, Maharashtra', 'Mumbai, Maharashtra', 'Mumbai, Maharashtra', 'Mumbai, Maharashtra', 'Mumbai, Maharashtra', 'Mumbai, Maharashtra', 'Mumbai, Maharashtra', 'Thane, Maharashtra', 'Mumbai, Maharashtra', 'Mumbai, Maharashtra', 'Mumbai, Maharashtra', 'Vile Parle, Mumbai, Maharashtra', 'Mumbai, Maharashtra', 'Mumbai, Maharashtra']\n",
      "15\n"
     ]
    }
   ],
   "source": [
    "locations = []\n",
    "for elem in loc:\n",
    "    elem = elem.text\n",
    "    locations.append(elem)\n",
    "print(locations)\n",
    "print(len(locations))"
   ]
  },
  {
   "cell_type": "code",
   "execution_count": 33,
   "metadata": {},
   "outputs": [
    {
     "data": {
      "text/plain": [
       "[<div class=\"summary\">\n",
       " <ul style=\"list-style-type:circle;margin-top: 0px;margin-bottom: 0px;padding-left:20px;\">\n",
       " <li>Developing and implementing sales strategies, client service, and retention plans, and analyzing sales data to inform or update marketing strategies.</li>\n",
       " </ul></div>, <div class=\"summary\">\n",
       " <ul style=\"list-style-type:circle;margin-top: 0px;margin-bottom: 0px;padding-left:20px;\">\n",
       " <li>The campaign interns assist in overseeing all aspects of the campaign including day-to-day operations, the coordination and implementation of the operations,…</li>\n",
       " </ul></div>, <div class=\"summary\">\n",
       " <ul style=\"list-style-type:circle;margin-top: 0px;margin-bottom: 0px;padding-left:20px;\">\n",
       " <li>Selected intern's day-to-day responsibilities include: 1. â¢ Work within brand guidelines and brainstorm to create layouts and graphics that reinforce a brandâ…</li>\n",
       " </ul></div>, <div class=\"summary\">\n",
       " <ul style=\"list-style-type:circle;margin-top: 0px;margin-bottom: 0px;padding-left:20px;\">\n",
       " <li style=\"margin-bottom:0px;\">Selected intern's day-to-day responsibilities include: 1.</li>\n",
       " <li style=\"margin-bottom:0px;\">Only those students or <b>freshers</b> can apply who:</li>\n",
       " <li>Are available for full time (in-office) internship.</li>\n",
       " </ul></div>, <div class=\"summary\">\n",
       " <ul style=\"list-style-type:circle;margin-top: 0px;margin-bottom: 0px;padding-left:20px;\">\n",
       " <li>Selected intern's day-to-day responsibilities include editing videos in various lengths for posting on social media, marketing videos for pitches etc.</li>\n",
       " </ul></div>]"
      ]
     },
     "execution_count": 33,
     "metadata": {},
     "output_type": "execute_result"
    }
   ],
   "source": [
    "desp = soup.find_all('div', class_='summary')\n",
    "desp[0:5]"
   ]
  },
  {
   "cell_type": "code",
   "execution_count": 34,
   "metadata": {},
   "outputs": [
    {
     "data": {
      "text/plain": [
       "['Developing and implementing sales strategies, client service, and retention plans, and analyzing sales data to inform or update marketing strategies.',\n",
       " 'The campaign interns assist in overseeing all aspects of the campaign including day-to-day operations, the coordination and implementation of the operations,…',\n",
       " \"Selected intern's day-to-day responsibilities include: 1. â\\x80¢ Work within brand guidelines and brainstorm to create layouts and graphics that reinforce a brandâ…\",\n",
       " \"Selected intern's day-to-day responsibilities include: 1.Only those students or freshers can apply who:Are available for full time (in-office) internship.\",\n",
       " \"Selected intern's day-to-day responsibilities include editing videos in various lengths for posting on social media, marketing videos for pitches etc.\"]"
      ]
     },
     "execution_count": 34,
     "metadata": {},
     "output_type": "execute_result"
    }
   ],
   "source": [
    "job_summary = []\n",
    "for elem in desp:\n",
    "    elem = elem.text.replace('\\n', '')\n",
    "    job_summary.append(elem)\n",
    "job_summary[0:5]"
   ]
  },
  {
   "cell_type": "code",
   "execution_count": 35,
   "metadata": {},
   "outputs": [
    {
     "data": {
      "text/plain": [
       "[<h2 class=\"title\">\n",
       " <a class=\"jobtitle turnstileLink\" data-tn-element=\"jobTitle\" href=\"/company/Memechat/jobs/Junior-Business-Development-Associate-601e83fb9564556e?fccid=7de1820d53a84ad8&amp;vjs=3\" id=\"jl_601e83fb9564556e\" onclick=\"setRefineByCookie([]); return rclk(this,jobmap[0],true,1);\" onmousedown=\"return rclk(this,jobmap[0],1);\" rel=\"noopener nofollow\" target=\"_blank\" title=\"Junior Business Development Associate Job\">\n",
       " Junior Business Development Associate Job</a>\n",
       " <span class=\"new\">new</span></h2>, <h2 class=\"title\">\n",
       " <a class=\"jobtitle turnstileLink\" data-tn-element=\"jobTitle\" href=\"/rc/clk?jk=2c93f5a24901f221&amp;fccid=20d6cf3c1b0e4cf1&amp;vjs=3\" id=\"jl_2c93f5a24901f221\" onclick=\"setRefineByCookie([]); return rclk(this,jobmap[1],true,1);\" onmousedown=\"return rclk(this,jobmap[1],1);\" rel=\"noopener nofollow\" target=\"_blank\" title=\"Campaign Management Internship\">\n",
       " Campaign Management Internship</a>\n",
       " <span class=\"new\">new</span></h2>, <h2 class=\"title\">\n",
       " <a class=\"jobtitle turnstileLink\" data-tn-element=\"jobTitle\" href=\"/rc/clk?jk=a057054d7feaa893&amp;fccid=b9d9f41dd92e9594&amp;vjs=3\" id=\"jl_a057054d7feaa893\" onclick=\"setRefineByCookie([]); return rclk(this,jobmap[2],true,1);\" onmousedown=\"return rclk(this,jobmap[2],1);\" rel=\"noopener nofollow\" target=\"_blank\" title=\"Visual Design Internship\">\n",
       " Visual Design Internship</a>\n",
       " <span class=\"new\">new</span></h2>, <h2 class=\"title\">\n",
       " <a class=\"jobtitle turnstileLink\" data-tn-element=\"jobTitle\" href=\"/rc/clk?jk=8d01411c845f7344&amp;fccid=393cb52899116512&amp;vjs=3\" id=\"jl_8d01411c845f7344\" onclick=\"setRefineByCookie([]); return rclk(this,jobmap[3],true,1);\" onmousedown=\"return rclk(this,jobmap[3],1);\" rel=\"noopener nofollow\" target=\"_blank\" title=\"Marketing Internship\">\n",
       " Marketing Internship</a>\n",
       " <span class=\"new\">new</span></h2>, <h2 class=\"title\">\n",
       " <a class=\"jobtitle turnstileLink\" data-tn-element=\"jobTitle\" href=\"/rc/clk?jk=f543b0336775dea3&amp;fccid=0d094db3506c59f1&amp;vjs=3\" id=\"jl_f543b0336775dea3\" onclick=\"setRefineByCookie([]); return rclk(this,jobmap[4],true,1);\" onmousedown=\"return rclk(this,jobmap[4],1);\" rel=\"noopener nofollow\" target=\"_blank\" title=\"Video Editing Internship\">\n",
       " Video Editing Internship</a>\n",
       " <span class=\"new\">new</span></h2>]"
      ]
     },
     "execution_count": 35,
     "metadata": {},
     "output_type": "execute_result"
    }
   ],
   "source": [
    "urls = soup.find_all('h2', class_='title')\n",
    "urls[0:5]"
   ]
  },
  {
   "cell_type": "code",
   "execution_count": 36,
   "metadata": {},
   "outputs": [
    {
     "data": {
      "text/plain": [
       "['https://www.indeed.co.in/company/Memechat/jobs/Junior-Business-Development-Associate-601e83fb9564556e?fccid=7de1820d53a84ad8&vjs=3',\n",
       " 'https://www.indeed.co.in/rc/clk?jk=2c93f5a24901f221&fccid=20d6cf3c1b0e4cf1&vjs=3',\n",
       " 'https://www.indeed.co.in/rc/clk?jk=a057054d7feaa893&fccid=b9d9f41dd92e9594&vjs=3',\n",
       " 'https://www.indeed.co.in/rc/clk?jk=8d01411c845f7344&fccid=393cb52899116512&vjs=3',\n",
       " 'https://www.indeed.co.in/rc/clk?jk=f543b0336775dea3&fccid=0d094db3506c59f1&vjs=3']"
      ]
     },
     "execution_count": 36,
     "metadata": {},
     "output_type": "execute_result"
    }
   ],
   "source": [
    "company_links = []\n",
    "for elem in urls:\n",
    "    elem = \"https://www.indeed.co.in\" + elem.a['href']\n",
    "    company_links.append(elem)\n",
    "company_links[0:5]\n",
    "# https://www.indeed.co.in/viewjob?cmp=Reckon-Concern&t=Data+Entry+Operator+Computer+Operator&jk=b42e81cad036c678&q=fresher&vjs=3"
   ]
  },
  {
   "cell_type": "code",
   "execution_count": null,
   "metadata": {},
   "outputs": [],
   "source": []
  },
  {
   "cell_type": "code",
   "execution_count": 15,
   "metadata": {},
   "outputs": [],
   "source": [
    "df = pd.DataFrame({'Job Role': job_role, 'Company': companies, 'Location': locations, 'Job Description': job_summary, 'Links': company_links})"
   ]
  },
  {
   "cell_type": "code",
   "execution_count": 26,
   "metadata": {},
   "outputs": [
    {
     "data": {
      "text/html": [
       "<div>\n",
       "<style scoped>\n",
       "    .dataframe tbody tr th:only-of-type {\n",
       "        vertical-align: middle;\n",
       "    }\n",
       "\n",
       "    .dataframe tbody tr th {\n",
       "        vertical-align: top;\n",
       "    }\n",
       "\n",
       "    .dataframe thead th {\n",
       "        text-align: right;\n",
       "    }\n",
       "</style>\n",
       "<table border=\"1\" class=\"dataframe\">\n",
       "  <thead>\n",
       "    <tr style=\"text-align: right;\">\n",
       "      <th></th>\n",
       "      <th>Job Role</th>\n",
       "      <th>Company</th>\n",
       "      <th>Location</th>\n",
       "      <th>Job Description</th>\n",
       "      <th>Links</th>\n",
       "    </tr>\n",
       "  </thead>\n",
       "  <tbody>\n",
       "    <tr>\n",
       "      <th>0</th>\n",
       "      <td>Junior Business Development Associate Job</td>\n",
       "      <td>Memechat</td>\n",
       "      <td>Mumbai, Maharashtra</td>\n",
       "      <td>Developing and implementing sales strategies, ...</td>\n",
       "      <td>https://www.indeed.co.in/company/Memechat/jobs...</td>\n",
       "    </tr>\n",
       "    <tr>\n",
       "      <th>1</th>\n",
       "      <td>Campaign Management Internship</td>\n",
       "      <td>FISSION MARKETING LLP</td>\n",
       "      <td>Mumbai, Maharashtra</td>\n",
       "      <td>The campaign interns assist in overseeing all ...</td>\n",
       "      <td>https://www.indeed.co.in/rc/clk?jk=2c93f5a2490...</td>\n",
       "    </tr>\n",
       "    <tr>\n",
       "      <th>2</th>\n",
       "      <td>Visual Design Internship</td>\n",
       "      <td>Coviam Technology And Services Private Limited</td>\n",
       "      <td>Mumbai, Maharashtra</td>\n",
       "      <td>Selected intern's day-to-day responsibilities ...</td>\n",
       "      <td>https://www.indeed.co.in/rc/clk?jk=a057054d7fe...</td>\n",
       "    </tr>\n",
       "    <tr>\n",
       "      <th>3</th>\n",
       "      <td>Marketing Internship</td>\n",
       "      <td>Purplemonks Technology Private Limited</td>\n",
       "      <td>Mumbai, Maharashtra</td>\n",
       "      <td>Selected intern's day-to-day responsibilities ...</td>\n",
       "      <td>https://www.indeed.co.in/rc/clk?jk=8d01411c845...</td>\n",
       "    </tr>\n",
       "    <tr>\n",
       "      <th>4</th>\n",
       "      <td>Video Editing Internship</td>\n",
       "      <td>Personage Corporation Private Limited</td>\n",
       "      <td>Mumbai, Maharashtra</td>\n",
       "      <td>Selected intern's day-to-day responsibilities ...</td>\n",
       "      <td>https://www.indeed.co.in/rc/clk?jk=f543b033677...</td>\n",
       "    </tr>\n",
       "  </tbody>\n",
       "</table>\n",
       "</div>"
      ],
      "text/plain": [
       "                                    Job Role  \\\n",
       "0  Junior Business Development Associate Job   \n",
       "1             Campaign Management Internship   \n",
       "2                   Visual Design Internship   \n",
       "3                       Marketing Internship   \n",
       "4                   Video Editing Internship   \n",
       "\n",
       "                                          Company             Location  \\\n",
       "0                                        Memechat  Mumbai, Maharashtra   \n",
       "1                           FISSION MARKETING LLP  Mumbai, Maharashtra   \n",
       "2  Coviam Technology And Services Private Limited  Mumbai, Maharashtra   \n",
       "3          Purplemonks Technology Private Limited  Mumbai, Maharashtra   \n",
       "4           Personage Corporation Private Limited  Mumbai, Maharashtra   \n",
       "\n",
       "                                     Job Description  \\\n",
       "0  Developing and implementing sales strategies, ...   \n",
       "1  The campaign interns assist in overseeing all ...   \n",
       "2  Selected intern's day-to-day responsibilities ...   \n",
       "3  Selected intern's day-to-day responsibilities ...   \n",
       "4  Selected intern's day-to-day responsibilities ...   \n",
       "\n",
       "                                               Links  \n",
       "0  https://www.indeed.co.in/company/Memechat/jobs...  \n",
       "1  https://www.indeed.co.in/rc/clk?jk=2c93f5a2490...  \n",
       "2  https://www.indeed.co.in/rc/clk?jk=a057054d7fe...  \n",
       "3  https://www.indeed.co.in/rc/clk?jk=8d01411c845...  \n",
       "4  https://www.indeed.co.in/rc/clk?jk=f543b033677...  "
      ]
     },
     "execution_count": 26,
     "metadata": {},
     "output_type": "execute_result"
    }
   ],
   "source": [
    "df.head(5)"
   ]
  },
  {
   "cell_type": "code",
   "execution_count": 17,
   "metadata": {},
   "outputs": [],
   "source": [
    "output = df.to_csv('indeed-jobs.csv', index = False)"
   ]
  },
  {
   "cell_type": "code",
   "execution_count": null,
   "metadata": {},
   "outputs": [],
   "source": []
  }
 ],
 "metadata": {
  "kernelspec": {
   "display_name": "Python 3",
   "language": "python",
   "name": "python3"
  },
  "language_info": {
   "codemirror_mode": {
    "name": "ipython",
    "version": 3
   },
   "file_extension": ".py",
   "mimetype": "text/x-python",
   "name": "python",
   "nbconvert_exporter": "python",
   "pygments_lexer": "ipython3",
   "version": "3.7.5"
  }
 },
 "nbformat": 4,
 "nbformat_minor": 4
}
